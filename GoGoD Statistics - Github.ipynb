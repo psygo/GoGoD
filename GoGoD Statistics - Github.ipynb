{
 "cells": [
  {
   "cell_type": "markdown",
   "metadata": {},
   "source": [
    "# GoGoD Statistics"
   ]
  },
  {
   "cell_type": "markdown",
   "metadata": {},
   "source": [
    "## Scanning the Folders"
   ]
  },
  {
   "cell_type": "code",
   "execution_count": 1,
   "metadata": {},
   "outputs": [],
   "source": [
    "import os\n",
    "\n",
    "path = r'C:\\Users\\Pichau\\Desktop\\GoGoD\\Database'\n",
    "os.chdir(path)\n",
    "\n",
    "game_folders = os.listdir()"
   ]
  },
  {
   "cell_type": "markdown",
   "metadata": {},
   "source": [
    "#### Reading the Folders"
   ]
  },
  {
   "cell_type": "code",
   "execution_count": 2,
   "metadata": {},
   "outputs": [],
   "source": [
    "dict_folders = {}\n",
    "for folder in game_folders:\n",
    "    \n",
    "    new_path = path + '\\\\' + folder\n",
    "    games_list = os.listdir(new_path)\n",
    "    \n",
    "    dict_folders[folder] = games_list"
   ]
  },
  {
   "cell_type": "markdown",
   "metadata": {},
   "source": [
    "#### For the last folder"
   ]
  },
  {
   "cell_type": "code",
   "execution_count": 3,
   "metadata": {},
   "outputs": [],
   "source": [
    "non_standard = 'Non19x19Boards'\n",
    "for folder in dict_folders[non_standard]:\n",
    "    \n",
    "    new_path = path + '\\\\' + non_standard + '\\\\' + folder\n",
    "    games_list = os.listdir(new_path)\n",
    "    \n",
    "    dict_folders[non_standard + '\\\\' + folder] = games_list"
   ]
  },
  {
   "cell_type": "markdown",
   "metadata": {},
   "source": [
    "#### Deleting the useless folder"
   ]
  },
  {
   "cell_type": "code",
   "execution_count": 4,
   "metadata": {},
   "outputs": [
    {
     "data": {
      "text/plain": [
       "['13x13 Games', '15x15 Games', '21x21 Games', '9x9 Games', 'Tibet_Games']"
      ]
     },
     "execution_count": 4,
     "metadata": {},
     "output_type": "execute_result"
    }
   ],
   "source": [
    "dict_folders.pop(non_standard)"
   ]
  },
  {
   "cell_type": "markdown",
   "metadata": {},
   "source": [
    "## Scanning All Files"
   ]
  },
  {
   "cell_type": "code",
   "execution_count": 5,
   "metadata": {},
   "outputs": [],
   "source": [
    "import time"
   ]
  },
  {
   "cell_type": "code",
   "execution_count": 6,
   "metadata": {
    "collapsed": true
   },
   "outputs": [
    {
     "name": "stdout",
     "output_type": "stream",
     "text": [
      "Folder: 0196-1699 Time: 3.722738265991211\n",
      "Folder: 1700-99 Time: 4.885223150253296\n",
      "Folder: 1800-49 Time: 4.476611375808716\n",
      "Folder: 1850-99 Time: 4.43263578414917\n",
      "Folder: 1900-09 Time: 1.553532600402832\n",
      "Folder: 1910-19 Time: 1.7170162200927734\n",
      "Folder: 1920-29 Time: 3.5928287506103516\n",
      "Folder: 1930-39 Time: 7.2506632804870605\n",
      "Folder: 1940-49 Time: 2.804868459701538\n",
      "Folder: 1950-59 Time: 5.681921482086182\n",
      "Folder: 1960-69 Time: 9.786868810653687\n",
      "Folder: 1970-75 Time: 6.5173163414001465\n",
      "Folder: 1976-79 Time: 6.394668102264404\n",
      "Folder: 1980 Time: 2.6142146587371826\n",
      "Folder: 1981 Time: 2.058145761489868\n",
      "Folder: 1982 Time: 1.8664367198944092\n",
      "Folder: 1983 Time: 2.3697664737701416\n",
      "Folder: 1984 Time: 1.9681000709533691\n",
      "Folder: 1985 Time: 2.889252185821533\n",
      "Folder: 1986 Time: 2.582179546356201\n",
      "Folder: 1987 Time: 2.4445881843566895\n",
      "Folder: 1988 Time: 3.117626667022705\n",
      "Folder: 1989 Time: 3.777381181716919\n",
      "Folder: 1990 Time: 6.803200006484985\n",
      "Folder: 1991 Time: 3.909770965576172\n",
      "Folder: 1992 Time: 4.094115495681763\n",
      "Folder: 1993 Time: 3.893615245819092\n",
      "Folder: 1994 Time: 3.628467082977295\n",
      "Folder: 1995 Time: 4.042565584182739\n",
      "Folder: 1996 Time: 4.888794898986816\n",
      "Folder: 1997 Time: 4.313349485397339\n",
      "Folder: 1998 Time: 4.398687839508057\n",
      "Folder: 1999 Time: 4.066190481185913\n",
      "Folder: 2000 Time: 4.290503978729248\n",
      "Folder: 2001 Time: 5.070056200027466\n",
      "Folder: 2002 Time: 4.352369546890259\n",
      "Folder: 2003 Time: 5.079324960708618\n",
      "Folder: 2004 Time: 4.705024242401123\n",
      "Folder: 2005 Time: 4.483755111694336\n",
      "Folder: 2006 Time: 6.517102241516113\n",
      "Folder: 2007 Time: 6.6019511222839355\n",
      "Folder: 2008 Time: 7.347412824630737\n",
      "Folder: 2009 Time: 6.109003782272339\n",
      "Folder: 2010 Time: 6.600363731384277\n",
      "Folder: 2011 Time: 6.2776806354522705\n",
      "Folder: 2012 Time: 7.7946765422821045\n",
      "Folder: 2013 Time: 9.363455533981323\n",
      "Folder: 2014 Time: 6.010852098464966\n",
      "Folder: 2015 Time: 6.534212827682495\n",
      "Folder: 2016 Time: 8.652347564697266\n",
      "Folder: 2017 Time: 10.570372104644775\n",
      "Folder: 2018 Time: 2.444479465484619\n",
      "Folder: Non19x19Boards\\13x13 Games Time: 0.09175467491149902\n",
      "Folder: Non19x19Boards\\15x15 Games Time: 0.003989219665527344\n",
      "Folder: Non19x19Boards\\21x21 Games Time: 0.00598454475402832\n",
      "Folder: Non19x19Boards\\9x9 Games Time: 0.4170193672180176\n",
      "Folder: Non19x19Boards\\Tibet_Games Time: 0.016784191131591797\n"
     ]
    }
   ],
   "source": [
    "games_info = {}\n",
    "for folder in dict_folders.keys():\n",
    "    tic = time.time()\n",
    "    for file in dict_folders[folder]:\n",
    "        \n",
    "        new_path = path + '\\\\' + folder + '\\\\' + file\n",
    "        # Opening the Game\n",
    "        with open(new_path, 'rt') as f:\n",
    "            \n",
    "            game_content = []\n",
    "            for row in f:\n",
    "                game_content.append(row)\n",
    "            \n",
    "        games_info[folder + '\\\\' + file] = game_content\n",
    "    \n",
    "    tac = time.time()\n",
    "    print('Folder:', folder, 'Time:', (tac - tic))"
   ]
  },
  {
   "cell_type": "markdown",
   "metadata": {},
   "source": [
    "## Reformatting the Info"
   ]
  },
  {
   "cell_type": "code",
   "execution_count": 7,
   "metadata": {},
   "outputs": [],
   "source": [
    "import re"
   ]
  },
  {
   "cell_type": "code",
   "execution_count": 8,
   "metadata": {
    "collapsed": true
   },
   "outputs": [
    {
     "name": "stdout",
     "output_type": "stream",
     "text": [
      "0.0 %\n",
      "1.0330578512396695 %\n",
      "2.066115702479339 %\n",
      "3.0991735537190084 %\n",
      "4.132231404958678 %\n",
      "5.1652892561983474 %\n",
      "6.198347107438017 %\n",
      "7.231404958677685 %\n",
      "8.264462809917356 %\n",
      "9.297520661157025 %\n",
      "10.330578512396695 %\n",
      "11.363636363636363 %\n",
      "12.396694214876034 %\n",
      "13.429752066115702 %\n",
      "14.46280991735537 %\n",
      "15.495867768595042 %\n",
      "16.528925619834713 %\n",
      "17.56198347107438 %\n",
      "18.59504132231405 %\n",
      "19.62809917355372 %\n",
      "20.66115702479339 %\n",
      "21.694214876033058 %\n",
      "22.727272727272727 %\n",
      "23.7603305785124 %\n",
      "24.793388429752067 %\n",
      "25.826446280991732 %\n",
      "26.859504132231404 %\n",
      "27.892561983471076 %\n",
      "28.92561983471074 %\n",
      "29.958677685950413 %\n",
      "30.991735537190085 %\n",
      "32.02479338842975 %\n",
      "33.057851239669425 %\n",
      "34.090909090909086 %\n",
      "35.12396694214876 %\n",
      "36.15702479338843 %\n",
      "37.1900826446281 %\n",
      "38.22314049586777 %\n",
      "39.25619834710744 %\n",
      "40.289256198347104 %\n",
      "41.32231404958678 %\n",
      "42.35537190082644 %\n",
      "43.388429752066116 %\n",
      "44.421487603305785 %\n",
      "45.45454545454545 %\n",
      "46.48760330578512 %\n",
      "47.5206611570248 %\n",
      "48.553719008264466 %\n",
      "49.586776859504134 %\n",
      "50.6198347107438 %\n",
      "51.652892561983464 %\n",
      "52.68595041322314 %\n",
      "53.71900826446281 %\n",
      "54.75206611570248 %\n",
      "55.78512396694215 %\n",
      "56.81818181818182 %\n",
      "57.85123966942148 %\n",
      "58.88429752066116 %\n",
      "59.917355371900825 %\n",
      "60.9504132231405 %\n",
      "61.98347107438017 %\n",
      "63.01652892561983 %\n",
      "64.0495867768595 %\n",
      "65.08264462809917 %\n",
      "66.11570247933885 %\n",
      "67.14876033057851 %\n",
      "68.18181818181817 %\n",
      "69.21487603305785 %\n",
      "70.24793388429752 %\n",
      "71.28099173553719 %\n",
      "72.31404958677686 %\n",
      "73.34710743801654 %\n",
      "74.3801652892562 %\n",
      "75.41322314049587 %\n",
      "76.44628099173553 %\n",
      "77.47933884297521 %\n",
      "78.51239669421489 %\n",
      "79.54545454545455 %\n",
      "80.57851239669421 %\n",
      "81.61157024793388 %\n",
      "82.64462809917356 %\n",
      "83.67768595041323 %\n",
      "84.71074380165288 %\n",
      "85.74380165289256 %\n",
      "86.77685950413223 %\n",
      "87.80991735537191 %\n",
      "88.84297520661157 %\n",
      "89.87603305785123 %\n",
      "90.9090909090909 %\n",
      "91.94214876033058 %\n",
      "92.97520661157024 %\n",
      "94.00826446280992 %\n",
      "95.0413223140496 %\n",
      "96.07438016528926 %\n",
      "97.10743801652893 %\n",
      "98.14049586776859 %\n",
      "99.17355371900827 %\n"
     ]
    }
   ],
   "source": [
    "counter = 0\n",
    "games = {}\n",
    "for key in games_info.keys():\n",
    "\n",
    "    game_allinone = ' '.join(games_info[key])\n",
    "    \n",
    "    try:\n",
    "        white = re.search('(?<=PW\\[)([^]]+)(?=\\])', game_allinone).group(1)\n",
    "    except:\n",
    "        white = 'NULL'\n",
    "    try:    \n",
    "        white_rank = re.search('(?<=WR\\[)([^]]+)(?=\\])', game_allinone).group(1)\n",
    "    except:\n",
    "        white_rank = 'NULL'\n",
    "    try:\n",
    "        black = re.search('(?<=PB\\[)([^]]+)(?=\\])', game_allinone).group(1)\n",
    "    except:\n",
    "        black = 'NULL'\n",
    "    try:\n",
    "        black_rank = re.search('(?<=BR\\[)([^]]+)(?=\\])', game_allinone).group(1)\n",
    "    except:\n",
    "        black_rank = 'NULL'\n",
    "    try:\n",
    "        event = re.search('(?<=EV\\[)([^]]+)(?=\\])', game_allinone).group(1)\n",
    "    except:\n",
    "        event = 'NULL'\n",
    "    try:\n",
    "        date = re.search('(?<=DT\\[)([^]]+)(?=\\])', game_allinone).group(1)\n",
    "        date = re.search('\\d{4}-\\d{2}-\\d{2}', date).group()\n",
    "    except:\n",
    "        date = 'NULL'\n",
    "    try:\n",
    "        komi = re.search('(?<=KM\\[)([^]]+)(?=\\])', game_allinone).group(1)\n",
    "    except:\n",
    "        komi = 'NULL'\n",
    "    try:\n",
    "        result = re.search('(?<=RE\\[)([^]]+)(?=\\])', game_allinone).group(1)\n",
    "    except:\n",
    "        result = 'NULL'\n",
    "    try:\n",
    "        place = re.search('(?<=PC\\[)([^]]+)(?=\\])', game_allinone).group(1)\n",
    "    except:\n",
    "        place = 'NULL'\n",
    "    try:\n",
    "        round_comp = re.search('(?<=RO\\[)([^]]+)(?=\\])', game_allinone).group(1)\n",
    "    except:\n",
    "        round_comp = 'NULL'\n",
    "    try:\n",
    "        time_game = re.search('(?<=TM\\[)([^]]+)(?=\\])', game_allinone).group(1)\n",
    "    except:\n",
    "        time_game = 'NULL'\n",
    "    try:\n",
    "        rules = re.search('(?<=RU\\[)([^]]+)(?=\\])', game_allinone).group(1)\n",
    "    except:\n",
    "        rules = 'NULL'\n",
    "    try:\n",
    "        size = re.search('(?<=SZ\\[)([^]]+)(?=\\])', game_allinone).group(1)\n",
    "    except:\n",
    "        size = 'NULL'\n",
    "        \n",
    "    moves = game_allinone.replace('\\n', ' ')\n",
    "    try:\n",
    "        game = re.search('(?<=US\\[GoGoD95\\])(.+)(?=\\))', moves).group(1)\n",
    "        game = re.findall('(?<=;)([^;]+)(?=;)', game)\n",
    "    except:\n",
    "        game = 'NULL'\n",
    "\n",
    "    game_info_final = [white, white_rank, black, black_rank, \n",
    "                       event, date, komi, result,\n",
    "                       place, round_comp, time_game, rules,\n",
    "                       size, game, key]\n",
    "\n",
    "    games[key] = game_info_final\n",
    "    \n",
    "    if counter % 1000 == 0:\n",
    "        print(f'{(counter/len(games_info))*100} %')\n",
    "    \n",
    "    counter += 1"
   ]
  },
  {
   "cell_type": "markdown",
   "metadata": {},
   "source": [
    "## Creating the DataFrames"
   ]
  },
  {
   "cell_type": "code",
   "execution_count": 10,
   "metadata": {},
   "outputs": [],
   "source": [
    "import pandas as pd\n",
    "import numpy as np"
   ]
  },
  {
   "cell_type": "code",
   "execution_count": 11,
   "metadata": {},
   "outputs": [],
   "source": [
    "# Converting the games dictionary into a list\n",
    "games_list_v2 = [games[key] for key in games.keys()]\n",
    "\n",
    "df_games = pd.DataFrame(data = games_list_v2,\n",
    "                        columns = ['White', 'White Rank', 'Black', 'Black Rank',\n",
    "                                   'Event', 'Date', 'Komi', 'Result',\n",
    "                                   'Place', 'Round', 'Time', 'Rules',\n",
    "                                   'Board Size', 'Moves', 'File Address'])\n",
    "\n",
    "df_games_pd = df_games.replace('NULL', np.nan)"
   ]
  },
  {
   "cell_type": "code",
   "execution_count": 12,
   "metadata": {},
   "outputs": [
    {
     "data": {
      "text/html": [
       "<div>\n",
       "<style scoped>\n",
       "    .dataframe tbody tr th:only-of-type {\n",
       "        vertical-align: middle;\n",
       "    }\n",
       "\n",
       "    .dataframe tbody tr th {\n",
       "        vertical-align: top;\n",
       "    }\n",
       "\n",
       "    .dataframe thead th {\n",
       "        text-align: right;\n",
       "    }\n",
       "</style>\n",
       "<table border=\"1\" class=\"dataframe\">\n",
       "  <thead>\n",
       "    <tr style=\"text-align: right;\">\n",
       "      <th></th>\n",
       "      <th>White</th>\n",
       "      <th>White Rank</th>\n",
       "      <th>Black</th>\n",
       "      <th>Black Rank</th>\n",
       "      <th>Event</th>\n",
       "      <th>Date</th>\n",
       "      <th>Komi</th>\n",
       "      <th>Result</th>\n",
       "      <th>Place</th>\n",
       "      <th>Round</th>\n",
       "      <th>Time</th>\n",
       "      <th>Rules</th>\n",
       "      <th>Board Size</th>\n",
       "      <th>Moves</th>\n",
       "      <th>File Address</th>\n",
       "    </tr>\n",
       "  </thead>\n",
       "  <tbody>\n",
       "    <tr>\n",
       "      <th>0</th>\n",
       "      <td>Sun Ce</td>\n",
       "      <td>NaN</td>\n",
       "      <td>Lu: Fan</td>\n",
       "      <td>NaN</td>\n",
       "      <td>NaN</td>\n",
       "      <td>NaN</td>\n",
       "      <td>NaN</td>\n",
       "      <td>? (No further moves known)</td>\n",
       "      <td>Wu Kingdom, China</td>\n",
       "      <td>NaN</td>\n",
       "      <td>NaN</td>\n",
       "      <td>Old Chinese</td>\n",
       "      <td>19</td>\n",
       "      <td>[W[cn], B[gq], W[en], B[ci], W[ck], B[cf], W[c...</td>\n",
       "      <td>0196-1699\\0196-00-00.sgf</td>\n",
       "    </tr>\n",
       "    <tr>\n",
       "      <th>1</th>\n",
       "      <td>Wang Wuzi</td>\n",
       "      <td>NaN</td>\n",
       "      <td>Jin Wu Di</td>\n",
       "      <td>NaN</td>\n",
       "      <td>Emperor Jin Wu Di summons Wang Wuzi to play go</td>\n",
       "      <td>NaN</td>\n",
       "      <td>0</td>\n",
       "      <td>Left unfinished</td>\n",
       "      <td>NaN</td>\n",
       "      <td>NaN</td>\n",
       "      <td>NaN</td>\n",
       "      <td>NaN</td>\n",
       "      <td>19</td>\n",
       "      <td>[W[cn], B[gq], W[iq], B[cl], W[cj], B[dm], W[c...</td>\n",
       "      <td>0196-1699\\0280-00-00.sgf</td>\n",
       "    </tr>\n",
       "    <tr>\n",
       "      <th>2</th>\n",
       "      <td>Zheng Guanyin</td>\n",
       "      <td>NaN</td>\n",
       "      <td>Emperor Xuan Zong</td>\n",
       "      <td>NaN</td>\n",
       "      <td>Ming Huang summons Zheng Guanyin to play go</td>\n",
       "      <td>NaN</td>\n",
       "      <td>0</td>\n",
       "      <td>Left unfinished</td>\n",
       "      <td>NaN</td>\n",
       "      <td>NaN</td>\n",
       "      <td>NaN</td>\n",
       "      <td>NaN</td>\n",
       "      <td>19</td>\n",
       "      <td>[W[qf], B[mc], W[kc], B[qk], W[qi], B[qn], W[m...</td>\n",
       "      <td>0196-1699\\0750.sgf</td>\n",
       "    </tr>\n",
       "    <tr>\n",
       "      <th>3</th>\n",
       "      <td>An Immortal</td>\n",
       "      <td>NaN</td>\n",
       "      <td>Another Immortal</td>\n",
       "      <td>NaN</td>\n",
       "      <td>The Rotted Axe-handle Game</td>\n",
       "      <td>NaN</td>\n",
       "      <td>0</td>\n",
       "      <td>B+1</td>\n",
       "      <td>NaN</td>\n",
       "      <td>NaN</td>\n",
       "      <td>NaN</td>\n",
       "      <td>Group tax?</td>\n",
       "      <td>19</td>\n",
       "      <td>[W[fc], B[fe], W[ic], B[eb], W[fb], B[ie], W[e...</td>\n",
       "      <td>0196-1699\\0800+.sgf</td>\n",
       "    </tr>\n",
       "    <tr>\n",
       "      <th>4</th>\n",
       "      <td>Li Baixiang</td>\n",
       "      <td>NaN</td>\n",
       "      <td>Anon.</td>\n",
       "      <td>NaN</td>\n",
       "      <td>Li Baixiang gives 3 stones</td>\n",
       "      <td>NaN</td>\n",
       "      <td>NaN</td>\n",
       "      <td>?</td>\n",
       "      <td>NaN</td>\n",
       "      <td>NaN</td>\n",
       "      <td>NaN</td>\n",
       "      <td>NaN</td>\n",
       "      <td>19</td>\n",
       "      <td>[W[fc], B[cg], W[ci], B[fe], W[ic], B[lc], W[i...</td>\n",
       "      <td>0196-1699\\1100+.sgf</td>\n",
       "    </tr>\n",
       "  </tbody>\n",
       "</table>\n",
       "</div>"
      ],
      "text/plain": [
       "           White White Rank              Black Black Rank  \\\n",
       "0         Sun Ce        NaN            Lu: Fan        NaN   \n",
       "1      Wang Wuzi        NaN          Jin Wu Di        NaN   \n",
       "2  Zheng Guanyin        NaN  Emperor Xuan Zong        NaN   \n",
       "3    An Immortal        NaN   Another Immortal        NaN   \n",
       "4    Li Baixiang        NaN              Anon.        NaN   \n",
       "\n",
       "                                            Event Date Komi  \\\n",
       "0                                             NaN  NaN  NaN   \n",
       "1  Emperor Jin Wu Di summons Wang Wuzi to play go  NaN    0   \n",
       "2     Ming Huang summons Zheng Guanyin to play go  NaN    0   \n",
       "3                      The Rotted Axe-handle Game  NaN    0   \n",
       "4                      Li Baixiang gives 3 stones  NaN  NaN   \n",
       "\n",
       "                       Result              Place Round Time        Rules  \\\n",
       "0  ? (No further moves known)  Wu Kingdom, China   NaN  NaN  Old Chinese   \n",
       "1             Left unfinished                NaN   NaN  NaN          NaN   \n",
       "2             Left unfinished                NaN   NaN  NaN          NaN   \n",
       "3                         B+1                NaN   NaN  NaN   Group tax?   \n",
       "4                           ?                NaN   NaN  NaN          NaN   \n",
       "\n",
       "  Board Size                                              Moves  \\\n",
       "0         19  [W[cn], B[gq], W[en], B[ci], W[ck], B[cf], W[c...   \n",
       "1         19  [W[cn], B[gq], W[iq], B[cl], W[cj], B[dm], W[c...   \n",
       "2         19  [W[qf], B[mc], W[kc], B[qk], W[qi], B[qn], W[m...   \n",
       "3         19  [W[fc], B[fe], W[ic], B[eb], W[fb], B[ie], W[e...   \n",
       "4         19  [W[fc], B[cg], W[ci], B[fe], W[ic], B[lc], W[i...   \n",
       "\n",
       "               File Address  \n",
       "0  0196-1699\\0196-00-00.sgf  \n",
       "1  0196-1699\\0280-00-00.sgf  \n",
       "2        0196-1699\\0750.sgf  \n",
       "3       0196-1699\\0800+.sgf  \n",
       "4       0196-1699\\1100+.sgf  "
      ]
     },
     "execution_count": 12,
     "metadata": {},
     "output_type": "execute_result"
    }
   ],
   "source": [
    "df_games_pd.head()"
   ]
  },
  {
   "cell_type": "markdown",
   "metadata": {},
   "source": [
    "#### Reformatting the Moves"
   ]
  },
  {
   "cell_type": "code",
   "execution_count": 13,
   "metadata": {},
   "outputs": [],
   "source": [
    "moves_pd = df_games_pd['Moves'].values\n",
    "len_moves = []\n",
    "for i in range(0, len(moves_pd)):\n",
    "    \n",
    "    if type(moves_pd[i]) == list:\n",
    "        len_moves.append(len(moves_pd[i]))\n",
    "    else:\n",
    "        len_moves.append(np.nan)\n",
    "        \n",
    "df_games_pd['Length of Game'] = len_moves"
   ]
  },
  {
   "cell_type": "code",
   "execution_count": 14,
   "metadata": {},
   "outputs": [
    {
     "data": {
      "text/html": [
       "<div>\n",
       "<style scoped>\n",
       "    .dataframe tbody tr th:only-of-type {\n",
       "        vertical-align: middle;\n",
       "    }\n",
       "\n",
       "    .dataframe tbody tr th {\n",
       "        vertical-align: top;\n",
       "    }\n",
       "\n",
       "    .dataframe thead th {\n",
       "        text-align: right;\n",
       "    }\n",
       "</style>\n",
       "<table border=\"1\" class=\"dataframe\">\n",
       "  <thead>\n",
       "    <tr style=\"text-align: right;\">\n",
       "      <th></th>\n",
       "      <th>White</th>\n",
       "      <th>White Rank</th>\n",
       "      <th>Black</th>\n",
       "      <th>Black Rank</th>\n",
       "      <th>Event</th>\n",
       "      <th>Date</th>\n",
       "      <th>Komi</th>\n",
       "      <th>Result</th>\n",
       "      <th>Place</th>\n",
       "      <th>Round</th>\n",
       "      <th>Time</th>\n",
       "      <th>Rules</th>\n",
       "      <th>Board Size</th>\n",
       "      <th>Moves</th>\n",
       "      <th>File Address</th>\n",
       "      <th>Length of Game</th>\n",
       "    </tr>\n",
       "  </thead>\n",
       "  <tbody>\n",
       "    <tr>\n",
       "      <th>0</th>\n",
       "      <td>Sun Ce</td>\n",
       "      <td>NaN</td>\n",
       "      <td>Lu: Fan</td>\n",
       "      <td>NaN</td>\n",
       "      <td>NaN</td>\n",
       "      <td>NaN</td>\n",
       "      <td>NaN</td>\n",
       "      <td>? (No further moves known)</td>\n",
       "      <td>Wu Kingdom, China</td>\n",
       "      <td>NaN</td>\n",
       "      <td>NaN</td>\n",
       "      <td>Old Chinese</td>\n",
       "      <td>19</td>\n",
       "      <td>[W[cn], B[gq], W[en], B[ci], W[ck], B[cf], W[c...</td>\n",
       "      <td>0196-1699\\0196-00-00.sgf</td>\n",
       "      <td>42.0</td>\n",
       "    </tr>\n",
       "    <tr>\n",
       "      <th>1</th>\n",
       "      <td>Wang Wuzi</td>\n",
       "      <td>NaN</td>\n",
       "      <td>Jin Wu Di</td>\n",
       "      <td>NaN</td>\n",
       "      <td>Emperor Jin Wu Di summons Wang Wuzi to play go</td>\n",
       "      <td>NaN</td>\n",
       "      <td>0</td>\n",
       "      <td>Left unfinished</td>\n",
       "      <td>NaN</td>\n",
       "      <td>NaN</td>\n",
       "      <td>NaN</td>\n",
       "      <td>NaN</td>\n",
       "      <td>19</td>\n",
       "      <td>[W[cn], B[gq], W[iq], B[cl], W[cj], B[dm], W[c...</td>\n",
       "      <td>0196-1699\\0280-00-00.sgf</td>\n",
       "      <td>82.0</td>\n",
       "    </tr>\n",
       "    <tr>\n",
       "      <th>2</th>\n",
       "      <td>Zheng Guanyin</td>\n",
       "      <td>NaN</td>\n",
       "      <td>Emperor Xuan Zong</td>\n",
       "      <td>NaN</td>\n",
       "      <td>Ming Huang summons Zheng Guanyin to play go</td>\n",
       "      <td>NaN</td>\n",
       "      <td>0</td>\n",
       "      <td>Left unfinished</td>\n",
       "      <td>NaN</td>\n",
       "      <td>NaN</td>\n",
       "      <td>NaN</td>\n",
       "      <td>NaN</td>\n",
       "      <td>19</td>\n",
       "      <td>[W[qf], B[mc], W[kc], B[qk], W[qi], B[qn], W[m...</td>\n",
       "      <td>0196-1699\\0750.sgf</td>\n",
       "      <td>76.0</td>\n",
       "    </tr>\n",
       "    <tr>\n",
       "      <th>3</th>\n",
       "      <td>An Immortal</td>\n",
       "      <td>NaN</td>\n",
       "      <td>Another Immortal</td>\n",
       "      <td>NaN</td>\n",
       "      <td>The Rotted Axe-handle Game</td>\n",
       "      <td>NaN</td>\n",
       "      <td>0</td>\n",
       "      <td>B+1</td>\n",
       "      <td>NaN</td>\n",
       "      <td>NaN</td>\n",
       "      <td>NaN</td>\n",
       "      <td>Group tax?</td>\n",
       "      <td>19</td>\n",
       "      <td>[W[fc], B[fe], W[ic], B[eb], W[fb], B[ie], W[e...</td>\n",
       "      <td>0196-1699\\0800+.sgf</td>\n",
       "      <td>289.0</td>\n",
       "    </tr>\n",
       "    <tr>\n",
       "      <th>4</th>\n",
       "      <td>Li Baixiang</td>\n",
       "      <td>NaN</td>\n",
       "      <td>Anon.</td>\n",
       "      <td>NaN</td>\n",
       "      <td>Li Baixiang gives 3 stones</td>\n",
       "      <td>NaN</td>\n",
       "      <td>NaN</td>\n",
       "      <td>?</td>\n",
       "      <td>NaN</td>\n",
       "      <td>NaN</td>\n",
       "      <td>NaN</td>\n",
       "      <td>NaN</td>\n",
       "      <td>19</td>\n",
       "      <td>[W[fc], B[cg], W[ci], B[fe], W[ic], B[lc], W[i...</td>\n",
       "      <td>0196-1699\\1100+.sgf</td>\n",
       "      <td>60.0</td>\n",
       "    </tr>\n",
       "  </tbody>\n",
       "</table>\n",
       "</div>"
      ],
      "text/plain": [
       "           White White Rank              Black Black Rank  \\\n",
       "0         Sun Ce        NaN            Lu: Fan        NaN   \n",
       "1      Wang Wuzi        NaN          Jin Wu Di        NaN   \n",
       "2  Zheng Guanyin        NaN  Emperor Xuan Zong        NaN   \n",
       "3    An Immortal        NaN   Another Immortal        NaN   \n",
       "4    Li Baixiang        NaN              Anon.        NaN   \n",
       "\n",
       "                                            Event Date Komi  \\\n",
       "0                                             NaN  NaN  NaN   \n",
       "1  Emperor Jin Wu Di summons Wang Wuzi to play go  NaN    0   \n",
       "2     Ming Huang summons Zheng Guanyin to play go  NaN    0   \n",
       "3                      The Rotted Axe-handle Game  NaN    0   \n",
       "4                      Li Baixiang gives 3 stones  NaN  NaN   \n",
       "\n",
       "                       Result              Place Round Time        Rules  \\\n",
       "0  ? (No further moves known)  Wu Kingdom, China   NaN  NaN  Old Chinese   \n",
       "1             Left unfinished                NaN   NaN  NaN          NaN   \n",
       "2             Left unfinished                NaN   NaN  NaN          NaN   \n",
       "3                         B+1                NaN   NaN  NaN   Group tax?   \n",
       "4                           ?                NaN   NaN  NaN          NaN   \n",
       "\n",
       "  Board Size                                              Moves  \\\n",
       "0         19  [W[cn], B[gq], W[en], B[ci], W[ck], B[cf], W[c...   \n",
       "1         19  [W[cn], B[gq], W[iq], B[cl], W[cj], B[dm], W[c...   \n",
       "2         19  [W[qf], B[mc], W[kc], B[qk], W[qi], B[qn], W[m...   \n",
       "3         19  [W[fc], B[fe], W[ic], B[eb], W[fb], B[ie], W[e...   \n",
       "4         19  [W[fc], B[cg], W[ci], B[fe], W[ic], B[lc], W[i...   \n",
       "\n",
       "               File Address  Length of Game  \n",
       "0  0196-1699\\0196-00-00.sgf            42.0  \n",
       "1  0196-1699\\0280-00-00.sgf            82.0  \n",
       "2        0196-1699\\0750.sgf            76.0  \n",
       "3       0196-1699\\0800+.sgf           289.0  \n",
       "4       0196-1699\\1100+.sgf            60.0  "
      ]
     },
     "execution_count": 14,
     "metadata": {},
     "output_type": "execute_result"
    }
   ],
   "source": [
    "df_games_pd.head()"
   ]
  },
  {
   "cell_type": "markdown",
   "metadata": {},
   "source": [
    "### Finally Saving the Data"
   ]
  },
  {
   "cell_type": "code",
   "execution_count": 15,
   "metadata": {},
   "outputs": [],
   "source": [
    "path = r'C:\\Users\\Pichau\\Google Drive\\ML\\SQL'\n",
    "os.chdir(path)\n",
    "\n",
    "df_games_pd.to_csv('GoGoD-Scanned.csv')"
   ]
  },
  {
   "cell_type": "markdown",
   "metadata": {},
   "source": [
    "#### Mean Length of Games"
   ]
  },
  {
   "cell_type": "code",
   "execution_count": 16,
   "metadata": {},
   "outputs": [],
   "source": [
    "mean_len = df_games_pd['Length of Game'].mean()"
   ]
  },
  {
   "cell_type": "code",
   "execution_count": 17,
   "metadata": {},
   "outputs": [
    {
     "data": {
      "text/plain": [
       "206.94611641924206"
      ]
     },
     "execution_count": 17,
     "metadata": {},
     "output_type": "execute_result"
    }
   ],
   "source": [
    "mean_len"
   ]
  },
  {
   "cell_type": "markdown",
   "metadata": {},
   "source": [
    "#### All Players and How Many Games They've Played"
   ]
  },
  {
   "cell_type": "code",
   "execution_count": 18,
   "metadata": {},
   "outputs": [],
   "source": [
    "all_players = pd.concat([df_games_pd['Black'], df_games_pd['White']])\n",
    "all_players = pd.DataFrame(all_players)\n",
    "all_players.columns = ['Player']\n",
    "\n",
    "players = all_players.groupby('Player').size().reset_index(name = 'Counts')\n",
    "players = players.sort_values(by = 'Counts', ascending = False)"
   ]
  },
  {
   "cell_type": "code",
   "execution_count": 19,
   "metadata": {},
   "outputs": [
    {
     "data": {
      "text/html": [
       "<div>\n",
       "<style scoped>\n",
       "    .dataframe tbody tr th:only-of-type {\n",
       "        vertical-align: middle;\n",
       "    }\n",
       "\n",
       "    .dataframe tbody tr th {\n",
       "        vertical-align: top;\n",
       "    }\n",
       "\n",
       "    .dataframe thead th {\n",
       "        text-align: right;\n",
       "    }\n",
       "</style>\n",
       "<table border=\"1\" class=\"dataframe\">\n",
       "  <thead>\n",
       "    <tr style=\"text-align: right;\">\n",
       "      <th></th>\n",
       "      <th>Player</th>\n",
       "      <th>Counts</th>\n",
       "    </tr>\n",
       "  </thead>\n",
       "  <tbody>\n",
       "    <tr>\n",
       "      <th>694</th>\n",
       "      <td>Cho Chikun</td>\n",
       "      <td>2142</td>\n",
       "    </tr>\n",
       "    <tr>\n",
       "      <th>707</th>\n",
       "      <td>Cho Hun-hyeon</td>\n",
       "      <td>2023</td>\n",
       "    </tr>\n",
       "    <tr>\n",
       "      <th>8006</th>\n",
       "      <td>Yi Ch'ang-ho</td>\n",
       "      <td>1917</td>\n",
       "    </tr>\n",
       "    <tr>\n",
       "      <th>5661</th>\n",
       "      <td>Rin Kaiho</td>\n",
       "      <td>1705</td>\n",
       "    </tr>\n",
       "    <tr>\n",
       "      <th>1493</th>\n",
       "      <td>Hashimoto Utaro</td>\n",
       "      <td>1552</td>\n",
       "    </tr>\n",
       "  </tbody>\n",
       "</table>\n",
       "</div>"
      ],
      "text/plain": [
       "               Player  Counts\n",
       "694        Cho Chikun    2142\n",
       "707     Cho Hun-hyeon    2023\n",
       "8006     Yi Ch'ang-ho    1917\n",
       "5661        Rin Kaiho    1705\n",
       "1493  Hashimoto Utaro    1552"
      ]
     },
     "execution_count": 19,
     "metadata": {},
     "output_type": "execute_result"
    }
   ],
   "source": [
    "players.head()"
   ]
  },
  {
   "cell_type": "markdown",
   "metadata": {},
   "source": [
    "## Players' Ranks"
   ]
  },
  {
   "cell_type": "markdown",
   "metadata": {},
   "source": [
    "#### For more recent players"
   ]
  },
  {
   "cell_type": "code",
   "execution_count": 160,
   "metadata": {},
   "outputs": [],
   "source": [
    "games_back = -20000\n",
    "\n",
    "player_black = df_games_pd[['Black', 'Black Rank']].iloc[games_back:]\n",
    "player_black.columns = ['Player', 'Rank']\n",
    "player_black.index = player_black['Player']\n",
    "player_white = df_games_pd[['White', 'White Rank']].iloc[games_back:]\n",
    "player_white.columns = ['Player', 'Rank']\n",
    "player_white.index = player_white['Player']"
   ]
  },
  {
   "cell_type": "code",
   "execution_count": 161,
   "metadata": {},
   "outputs": [],
   "source": [
    "x = pd.concat([player_black, player_white], axis = 0)"
   ]
  },
  {
   "cell_type": "code",
   "execution_count": 162,
   "metadata": {},
   "outputs": [
    {
     "data": {
      "text/plain": [
       "(40000, 2)"
      ]
     },
     "execution_count": 162,
     "metadata": {},
     "output_type": "execute_result"
    }
   ],
   "source": [
    "x.shape"
   ]
  },
  {
   "cell_type": "code",
   "execution_count": 163,
   "metadata": {},
   "outputs": [],
   "source": [
    "rank_list = []\n",
    "for rank_str in x['Rank']:\n",
    "    try:\n",
    "        rank = int(re.search('(\\d{1})(?=d)', rank_str).group(1))\n",
    "    except:\n",
    "        rank = np.nan\n",
    "        \n",
    "    rank_list.append(rank)\n",
    "\n",
    "rank_df = pd.DataFrame(rank_list, columns = ['Rank'])\n",
    "rank_df['Player'] = x['Player'].values\n",
    "rank_df = rank_df[['Player', 'Rank']]\n",
    "\n",
    "ranking = rank_df.groupby('Player').agg('max')\n",
    "ranking = ranking.sort_values(by = 'Rank', ascending = False)\n",
    "ranking_no_nan = ranking.dropna()"
   ]
  },
  {
   "cell_type": "code",
   "execution_count": 164,
   "metadata": {},
   "outputs": [
    {
     "data": {
      "text/plain": [
       "(1988, 1)"
      ]
     },
     "execution_count": 164,
     "metadata": {},
     "output_type": "execute_result"
    }
   ],
   "source": [
    "ranking.shape"
   ]
  },
  {
   "cell_type": "code",
   "execution_count": 114,
   "metadata": {},
   "outputs": [
    {
     "data": {
      "text/plain": [
       "(1215, 1)"
      ]
     },
     "execution_count": 114,
     "metadata": {},
     "output_type": "execute_result"
    }
   ],
   "source": [
    "ranking_no_nan.shape"
   ]
  },
  {
   "cell_type": "code",
   "execution_count": 115,
   "metadata": {
    "scrolled": true
   },
   "outputs": [
    {
     "data": {
      "text/html": [
       "<div>\n",
       "<style scoped>\n",
       "    .dataframe tbody tr th:only-of-type {\n",
       "        vertical-align: middle;\n",
       "    }\n",
       "\n",
       "    .dataframe tbody tr th {\n",
       "        vertical-align: top;\n",
       "    }\n",
       "\n",
       "    .dataframe thead th {\n",
       "        text-align: right;\n",
       "    }\n",
       "</style>\n",
       "<table border=\"1\" class=\"dataframe\">\n",
       "  <thead>\n",
       "    <tr style=\"text-align: right;\">\n",
       "      <th></th>\n",
       "      <th>%</th>\n",
       "    </tr>\n",
       "    <tr>\n",
       "      <th>Rank</th>\n",
       "      <th></th>\n",
       "    </tr>\n",
       "  </thead>\n",
       "  <tbody>\n",
       "    <tr>\n",
       "      <th>1.0</th>\n",
       "      <td>13.004115</td>\n",
       "    </tr>\n",
       "    <tr>\n",
       "      <th>2.0</th>\n",
       "      <td>10.699588</td>\n",
       "    </tr>\n",
       "    <tr>\n",
       "      <th>3.0</th>\n",
       "      <td>13.004115</td>\n",
       "    </tr>\n",
       "    <tr>\n",
       "      <th>4.0</th>\n",
       "      <td>9.053498</td>\n",
       "    </tr>\n",
       "    <tr>\n",
       "      <th>5.0</th>\n",
       "      <td>8.148148</td>\n",
       "    </tr>\n",
       "    <tr>\n",
       "      <th>6.0</th>\n",
       "      <td>8.641975</td>\n",
       "    </tr>\n",
       "    <tr>\n",
       "      <th>7.0</th>\n",
       "      <td>7.489712</td>\n",
       "    </tr>\n",
       "    <tr>\n",
       "      <th>8.0</th>\n",
       "      <td>5.267490</td>\n",
       "    </tr>\n",
       "    <tr>\n",
       "      <th>9.0</th>\n",
       "      <td>24.691358</td>\n",
       "    </tr>\n",
       "  </tbody>\n",
       "</table>\n",
       "</div>"
      ],
      "text/plain": [
       "              %\n",
       "Rank           \n",
       "1.0   13.004115\n",
       "2.0   10.699588\n",
       "3.0   13.004115\n",
       "4.0    9.053498\n",
       "5.0    8.148148\n",
       "6.0    8.641975\n",
       "7.0    7.489712\n",
       "8.0    5.267490\n",
       "9.0   24.691358"
      ]
     },
     "execution_count": 115,
     "metadata": {},
     "output_type": "execute_result"
    }
   ],
   "source": [
    "ranking_pct = ranking_no_nan.groupby('Rank').size()/(ranking_no_nan.size)*100\n",
    "ranking_pct = pd.DataFrame(ranking_pct, columns = ['%'])\n",
    "ranking_pct"
   ]
  },
  {
   "cell_type": "code",
   "execution_count": 165,
   "metadata": {},
   "outputs": [
    {
     "data": {
      "text/plain": [
       "Text(0.5,1,'Histogram of Number of Players x Rank for the last 20000 games\\nTotal Number of Players with a Rank: 1215 (out of 1988)\\n% of Players with a 9p Rank: 12.42%')"
      ]
     },
     "execution_count": 165,
     "metadata": {},
     "output_type": "execute_result"
    },
    {
     "data": {
      "image/png": "[encoded data removed]",
      "text/plain": [
       "<Figure size 720x576 with 1 Axes>"
      ]
     },
     "metadata": {},
     "output_type": "display_data"
    }
   ],
   "source": [
    "ax = ranking_pct.plot(kind = 'bar', label = 'Rank Histogram', figsize = (10, 8), rot = 0)\n",
    "ax.tick_params(axis = 'both', which = 'major', labelsize = 14)\n",
    "ax.set_xlabel('Rank', fontdict = {'fontsize': 13})\n",
    "ax.set_ylabel('%', fontdict = {'fontsize': 14})\n",
    "ax.set_title(f\"\"\"Histogram of Number of Players x Rank for the last {-games_back} games\n",
    "Total Number of Players with a Rank: {ranking_no_nan.size} (out of {ranking.shape[0]})\n",
    "% of Players with a 9p Rank: {round(float(ranking_pct.loc[9]), 2)}%\"\"\",\n",
    "             fontdict = {'fontsize': 14},\n",
    "             loc = 'center')"
   ]
  },
  {
   "cell_type": "markdown",
   "metadata": {},
   "source": [
    "#### For all the players"
   ]
  },
  {
   "cell_type": "code",
   "execution_count": 117,
   "metadata": {},
   "outputs": [],
   "source": [
    "player_black = df_games_pd[['Black', 'Black Rank']]\n",
    "player_black.columns = ['Player', 'Rank']\n",
    "player_black.index = player_black['Player']\n",
    "player_white = df_games_pd[['White', 'White Rank']]\n",
    "player_white.columns = ['Player', 'Rank']\n",
    "player_white.index = player_white['Player']"
   ]
  },
  {
   "cell_type": "code",
   "execution_count": 118,
   "metadata": {},
   "outputs": [],
   "source": [
    "x = pd.concat([player_black, player_white], axis = 0)"
   ]
  },
  {
   "cell_type": "code",
   "execution_count": 119,
   "metadata": {},
   "outputs": [
    {
     "data": {
      "text/plain": [
       "(193600, 2)"
      ]
     },
     "execution_count": 119,
     "metadata": {},
     "output_type": "execute_result"
    }
   ],
   "source": [
    "x.shape"
   ]
  },
  {
   "cell_type": "code",
   "execution_count": 120,
   "metadata": {},
   "outputs": [],
   "source": [
    "rank_list = []\n",
    "for rank_str in x['Rank']:\n",
    "    try:\n",
    "        rank = int(re.search('(\\d{1})(?=d)', rank_str).group(1))\n",
    "    except:\n",
    "        rank = np.nan\n",
    "        \n",
    "    rank_list.append(rank)\n",
    "\n",
    "rank_df = pd.DataFrame(rank_list, columns = ['Rank'])\n",
    "rank_df['Player'] = x['Player'].values\n",
    "rank_df = rank_df[['Player', 'Rank']]\n",
    "\n",
    "ranking = rank_df.groupby('Player').agg('max')\n",
    "ranking = ranking.sort_values(by = 'Rank', ascending = False)\n",
    "ranking_no_nan = ranking.dropna()"
   ]
  },
  {
   "cell_type": "code",
   "execution_count": 140,
   "metadata": {},
   "outputs": [
    {
     "data": {
      "text/plain": [
       "(8734, 1)"
      ]
     },
     "execution_count": 140,
     "metadata": {},
     "output_type": "execute_result"
    }
   ],
   "source": [
    "ranking.shape"
   ]
  },
  {
   "cell_type": "code",
   "execution_count": 121,
   "metadata": {
    "scrolled": true
   },
   "outputs": [
    {
     "data": {
      "text/plain": [
       "(4276, 1)"
      ]
     },
     "execution_count": 121,
     "metadata": {},
     "output_type": "execute_result"
    }
   ],
   "source": [
    "ranking_no_nan.shape"
   ]
  },
  {
   "cell_type": "markdown",
   "metadata": {},
   "source": [
    "#### There are a total of 8734 players in the DB, with 4340 having ranks."
   ]
  },
  {
   "cell_type": "code",
   "execution_count": 122,
   "metadata": {
    "scrolled": true
   },
   "outputs": [
    {
     "data": {
      "text/html": [
       "<div>\n",
       "<style scoped>\n",
       "    .dataframe tbody tr th:only-of-type {\n",
       "        vertical-align: middle;\n",
       "    }\n",
       "\n",
       "    .dataframe tbody tr th {\n",
       "        vertical-align: top;\n",
       "    }\n",
       "\n",
       "    .dataframe thead th {\n",
       "        text-align: right;\n",
       "    }\n",
       "</style>\n",
       "<table border=\"1\" class=\"dataframe\">\n",
       "  <thead>\n",
       "    <tr style=\"text-align: right;\">\n",
       "      <th></th>\n",
       "      <th>%</th>\n",
       "    </tr>\n",
       "    <tr>\n",
       "      <th>Rank</th>\n",
       "      <th></th>\n",
       "    </tr>\n",
       "  </thead>\n",
       "  <tbody>\n",
       "    <tr>\n",
       "      <th>1.0</th>\n",
       "      <td>9.237605</td>\n",
       "    </tr>\n",
       "    <tr>\n",
       "      <th>2.0</th>\n",
       "      <td>8.910196</td>\n",
       "    </tr>\n",
       "    <tr>\n",
       "      <th>3.0</th>\n",
       "      <td>11.739944</td>\n",
       "    </tr>\n",
       "    <tr>\n",
       "      <th>4.0</th>\n",
       "      <td>10.266604</td>\n",
       "    </tr>\n",
       "    <tr>\n",
       "      <th>5.0</th>\n",
       "      <td>17.890552</td>\n",
       "    </tr>\n",
       "    <tr>\n",
       "      <th>6.0</th>\n",
       "      <td>15.247895</td>\n",
       "    </tr>\n",
       "    <tr>\n",
       "      <th>7.0</th>\n",
       "      <td>9.448082</td>\n",
       "    </tr>\n",
       "    <tr>\n",
       "      <th>8.0</th>\n",
       "      <td>4.840973</td>\n",
       "    </tr>\n",
       "    <tr>\n",
       "      <th>9.0</th>\n",
       "      <td>12.418148</td>\n",
       "    </tr>\n",
       "  </tbody>\n",
       "</table>\n",
       "</div>"
      ],
      "text/plain": [
       "              %\n",
       "Rank           \n",
       "1.0    9.237605\n",
       "2.0    8.910196\n",
       "3.0   11.739944\n",
       "4.0   10.266604\n",
       "5.0   17.890552\n",
       "6.0   15.247895\n",
       "7.0    9.448082\n",
       "8.0    4.840973\n",
       "9.0   12.418148"
      ]
     },
     "execution_count": 122,
     "metadata": {},
     "output_type": "execute_result"
    }
   ],
   "source": [
    "ranking_pct = ranking_no_nan.groupby('Rank').size()/(ranking_no_nan.size)*100\n",
    "ranking_pct = pd.DataFrame(ranking_pct, columns = ['%'])\n",
    "ranking_pct"
   ]
  },
  {
   "cell_type": "code",
   "execution_count": 159,
   "metadata": {},
   "outputs": [
    {
     "data": {
      "text/plain": [
       "Text(0.5,1,'Histogram of Number of Players x Rank\\nTotal Number of Players with a Rank: 4276 (out of 8734)\\n% of Players with a 9p Rank: 12.42%')"
      ]
     },
     "execution_count": 159,
     "metadata": {},
     "output_type": "execute_result"
    },
    {
     "data": {
      "image/png": "[encoded data removed]",
      "text/plain": [
       "<Figure size 720x576 with 1 Axes>"
      ]
     },
     "metadata": {},
     "output_type": "display_data"
    }
   ],
   "source": [
    "ax = ranking_pct.plot(kind = 'bar', label = 'Rank Histogram', figsize = (10, 8), rot = 0)\n",
    "ax.tick_params(axis = 'both', which = 'major', labelsize = 14)\n",
    "ax.set_xlabel('Rank', fontdict = {'fontsize': 13})\n",
    "ax.set_ylabel('%', fontdict = {'fontsize': 14})\n",
    "ax.set_title(f\"\"\"Histogram of Number of Players x Rank\n",
    "Total Number of Players with a Rank: {ranking_no_nan.size} (out of {players.shape[0]})\n",
    "% of Players with a 9p Rank: {round(float(ranking_pct.loc[9]), 2)}%\"\"\",\n",
    "             fontdict = {'fontsize': 14},\n",
    "             loc = 'center')"
   ]
  },
  {
   "cell_type": "markdown",
   "metadata": {},
   "source": [
    "# How Many Times Black and White Won"
   ]
  },
  {
   "cell_type": "code",
   "execution_count": 25,
   "metadata": {},
   "outputs": [],
   "source": [
    "# How many times Black and White won.\n",
    "results = df_games_pd['Result']\n",
    "\n",
    "results_list = []\n",
    "for result_str in results:\n",
    "    try:\n",
    "        result = re.search('([BW])(?=\\+)', result_str).group(1)\n",
    "    except:\n",
    "        result = np.nan\n",
    "        \n",
    "    results_list.append(result)\n",
    "\n",
    "results_df = pd.DataFrame(results_list, columns = ['Result'])\n",
    "\n",
    "winners = results_df.groupby('Result').size().reset_index(name = 'Counts')\n",
    "winners = winners.sort_values(by = 'Counts', ascending = False)\n",
    "\n",
    "winners['Counts'] = winners['Counts']/winners['Counts'].sum()"
   ]
  },
  {
   "cell_type": "code",
   "execution_count": 26,
   "metadata": {},
   "outputs": [
    {
     "data": {
      "text/html": [
       "<div>\n",
       "<style scoped>\n",
       "    .dataframe tbody tr th:only-of-type {\n",
       "        vertical-align: middle;\n",
       "    }\n",
       "\n",
       "    .dataframe tbody tr th {\n",
       "        vertical-align: top;\n",
       "    }\n",
       "\n",
       "    .dataframe thead th {\n",
       "        text-align: right;\n",
       "    }\n",
       "</style>\n",
       "<table border=\"1\" class=\"dataframe\">\n",
       "  <thead>\n",
       "    <tr style=\"text-align: right;\">\n",
       "      <th></th>\n",
       "      <th>Result</th>\n",
       "      <th>Counts</th>\n",
       "    </tr>\n",
       "  </thead>\n",
       "  <tbody>\n",
       "    <tr>\n",
       "      <th>0</th>\n",
       "      <td>B</td>\n",
       "      <td>0.515179</td>\n",
       "    </tr>\n",
       "    <tr>\n",
       "      <th>1</th>\n",
       "      <td>W</td>\n",
       "      <td>0.484821</td>\n",
       "    </tr>\n",
       "  </tbody>\n",
       "</table>\n",
       "</div>"
      ],
      "text/plain": [
       "  Result    Counts\n",
       "0      B  0.515179\n",
       "1      W  0.484821"
      ]
     },
     "execution_count": 26,
     "metadata": {},
     "output_type": "execute_result"
    }
   ],
   "source": [
    "winners"
   ]
  },
  {
   "cell_type": "markdown",
   "metadata": {},
   "source": [
    "#### In recent times"
   ]
  },
  {
   "cell_type": "code",
   "execution_count": 27,
   "metadata": {},
   "outputs": [],
   "source": [
    "# How many times Black and White won in recent times.\n",
    "winners_recent = results_df.iloc[-10000:].groupby('Result').size().reset_index(name = 'Counts')\n",
    "winners_recent = winners_recent.sort_values(by = 'Counts', ascending = False)\n",
    "winners_recent['Counts'] = winners_recent['Counts']/winners_recent['Counts'].sum()"
   ]
  },
  {
   "cell_type": "code",
   "execution_count": 28,
   "metadata": {},
   "outputs": [
    {
     "data": {
      "text/html": [
       "<div>\n",
       "<style scoped>\n",
       "    .dataframe tbody tr th:only-of-type {\n",
       "        vertical-align: middle;\n",
       "    }\n",
       "\n",
       "    .dataframe tbody tr th {\n",
       "        vertical-align: top;\n",
       "    }\n",
       "\n",
       "    .dataframe thead th {\n",
       "        text-align: right;\n",
       "    }\n",
       "</style>\n",
       "<table border=\"1\" class=\"dataframe\">\n",
       "  <thead>\n",
       "    <tr style=\"text-align: right;\">\n",
       "      <th></th>\n",
       "      <th>Result</th>\n",
       "      <th>Counts</th>\n",
       "    </tr>\n",
       "  </thead>\n",
       "  <tbody>\n",
       "    <tr>\n",
       "      <th>1</th>\n",
       "      <td>W</td>\n",
       "      <td>0.513765</td>\n",
       "    </tr>\n",
       "    <tr>\n",
       "      <th>0</th>\n",
       "      <td>B</td>\n",
       "      <td>0.486235</td>\n",
       "    </tr>\n",
       "  </tbody>\n",
       "</table>\n",
       "</div>"
      ],
      "text/plain": [
       "  Result    Counts\n",
       "1      W  0.513765\n",
       "0      B  0.486235"
      ]
     },
     "execution_count": 28,
     "metadata": {},
     "output_type": "execute_result"
    }
   ],
   "source": [
    "winners_recent"
   ]
  }
 ],
 "metadata": {
  "kernelspec": {
   "display_name": "Python 3",
   "language": "python",
   "name": "python3"
  },
  "language_info": {
   "codemirror_mode": {
    "name": "ipython",
    "version": 3
   },
   "file_extension": ".py",
   "mimetype": "text/x-python",
   "name": "python",
   "nbconvert_exporter": "python",
   "pygments_lexer": "ipython3",
   "version": "3.6.5"
  },
  "varInspector": {
   "cols": {
    "lenName": 16,
    "lenType": 16,
    "lenVar": 40
   },
   "kernels_config": {
    "python": {
     "delete_cmd_postfix": "",
     "delete_cmd_prefix": "del ",
     "library": "var_list.py",
     "varRefreshCmd": "print(var_dic_list())"
    },
    "r": {
     "delete_cmd_postfix": ") ",
     "delete_cmd_prefix": "rm(",
     "library": "var_list.r",
     "varRefreshCmd": "cat(var_dic_list()) "
    }
   },
   "oldHeight": 321,
   "position": {
    "height": "343px",
    "left": "637px",
    "right": "20px",
    "top": "28px",
    "width": "397px"
   },
   "types_to_exclude": [
    "module",
    "function",
    "builtin_function_or_method",
    "instance",
    "_Feature"
   ],
   "varInspector_section_display": "block",
   "window_display": false
  }
 },
 "nbformat": 4,
 "nbformat_minor": 2
}
